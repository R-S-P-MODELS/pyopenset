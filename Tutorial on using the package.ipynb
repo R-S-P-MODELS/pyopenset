{
 "cells": [
  {
   "cell_type": "code",
   "execution_count": 1,
   "metadata": {},
   "outputs": [],
   "source": [
    "import warnings\n",
    "warnings.filterwarnings('ignore')"
   ]
  },
  {
   "cell_type": "code",
   "execution_count": 2,
   "metadata": {
    "id": "JhulLF_5MI13"
   },
   "outputs": [],
   "source": [
    "from keras.models import Sequential\n",
    "from keras.layers import Dense,Flatten"
   ]
  },
  {
   "cell_type": "code",
   "execution_count": 3,
   "metadata": {
    "id": "MeO5a9JnMKzp"
   },
   "outputs": [],
   "source": [
    "from keras.constraints import min_max_norm\n",
    "from keras.layers import Layer\n",
    "import tensorflow as tf\n",
    "import keras.backend as K\n",
    "import keras\n",
    "\n",
    "\n",
    "from pyopenset.keras import ModuleNormalization,AddNewClass\n"
   ]
  },
  {
   "cell_type": "code",
   "execution_count": 4,
   "metadata": {},
   "outputs": [
    {
     "name": "stdout",
     "output_type": "stream",
     "text": [
      "2.4.3\n",
      "2.2.0\n"
     ]
    }
   ],
   "source": [
    "print(keras.__version__)\n",
    "print(tf.__version__)"
   ]
  },
  {
   "cell_type": "code",
   "execution_count": 5,
   "metadata": {
    "id": "uMHWCZEuMrjX"
   },
   "outputs": [],
   "source": [
    "Modelo=Sequential()\n",
    "Modelo.add(Flatten(input_shape=(28,28,1)))\n",
    "Modelo.add(Dense(60) )\n",
    "Modelo.add(ModuleNormalization(s=20.0  ))\n",
    "Modelo.add(Dense(10,kernel_constraint=min_max_norm(1,1),bias_constraint=min_max_norm(0,0),activation='softmax'))\n"
   ]
  },
  {
   "cell_type": "code",
   "execution_count": 6,
   "metadata": {
    "id": "5KJd7glmNgmb"
   },
   "outputs": [],
   "source": [
    "Modelo.compile('adam','categorical_crossentropy')"
   ]
  },
  {
   "cell_type": "code",
   "execution_count": 7,
   "metadata": {
    "colab": {
     "base_uri": "https://localhost:8080/"
    },
    "id": "N4S8hlByOmLT",
    "outputId": "f25608ab-c18e-426b-b72f-9486b21b9a8f"
   },
   "outputs": [
    {
     "name": "stdout",
     "output_type": "stream",
     "text": [
      "Model: \"sequential\"\n",
      "_________________________________________________________________\n",
      "Layer (type)                 Output Shape              Param #   \n",
      "=================================================================\n",
      "flatten (Flatten)            (None, 784)               0         \n",
      "_________________________________________________________________\n",
      "dense (Dense)                (None, 60)                47100     \n",
      "_________________________________________________________________\n",
      "module_normalization (Module (None, 60)                0         \n",
      "_________________________________________________________________\n",
      "dense_1 (Dense)              (None, 10)                610       \n",
      "=================================================================\n",
      "Total params: 47,710\n",
      "Trainable params: 47,710\n",
      "Non-trainable params: 0\n",
      "_________________________________________________________________\n"
     ]
    }
   ],
   "source": [
    "Modelo.summary()"
   ]
  },
  {
   "cell_type": "code",
   "execution_count": 8,
   "metadata": {
    "id": "MVWXztrXNG9m"
   },
   "outputs": [],
   "source": [
    "#Modelo.save_weights('M1.h5')\n",
    "Modelo.save('M1.h5')"
   ]
  },
  {
   "cell_type": "code",
   "execution_count": 9,
   "metadata": {
    "id": "EcbOBE2YWKRq"
   },
   "outputs": [],
   "source": [
    "from keras.models import load_model"
   ]
  },
  {
   "cell_type": "markdown",
   "metadata": {},
   "source": [
    "How to load a model with our custom layer"
   ]
  },
  {
   "cell_type": "code",
   "execution_count": 10,
   "metadata": {
    "id": "aUYQLrUWm0e_"
   },
   "outputs": [],
   "source": [
    "Mod=load_model('M1.h5',custom_objects={'ModuleNormalization':ModuleNormalization  })\n"
   ]
  },
  {
   "cell_type": "code",
   "execution_count": 11,
   "metadata": {
    "colab": {
     "base_uri": "https://localhost:8080/"
    },
    "id": "BvP5SBWDm3ZM",
    "outputId": "3c3f52d3-46fe-455f-b0ac-bc04445c8d47"
   },
   "outputs": [
    {
     "name": "stdout",
     "output_type": "stream",
     "text": [
      "Model: \"sequential\"\n",
      "_________________________________________________________________\n",
      "Layer (type)                 Output Shape              Param #   \n",
      "=================================================================\n",
      "flatten (Flatten)            (None, 784)               0         \n",
      "_________________________________________________________________\n",
      "dense (Dense)                (None, 60)                47100     \n",
      "_________________________________________________________________\n",
      "module_normalization_1 (Modu (None, 60)                0         \n",
      "_________________________________________________________________\n",
      "dense_1 (Dense)              (None, 10)                610       \n",
      "=================================================================\n",
      "Total params: 47,710\n",
      "Trainable params: 47,710\n",
      "Non-trainable params: 0\n",
      "_________________________________________________________________\n"
     ]
    }
   ],
   "source": [
    "Mod.summary()"
   ]
  },
  {
   "cell_type": "code",
   "execution_count": 12,
   "metadata": {
    "id": "Fj0fPqrdsrPV"
   },
   "outputs": [],
   "source": [
    "from keras.datasets import mnist"
   ]
  },
  {
   "cell_type": "markdown",
   "metadata": {
    "id": "gujOXvjdwg4c"
   },
   "source": [
    "Defining and optimizing a model on only 8 of the classes"
   ]
  },
  {
   "cell_type": "code",
   "execution_count": 13,
   "metadata": {
    "id": "foBlLdzPwHFp"
   },
   "outputs": [],
   "source": [
    "(x_train,y_train),(x_test,y_test)=mnist.load_data()"
   ]
  },
  {
   "cell_type": "code",
   "execution_count": 14,
   "metadata": {
    "id": "dNI9VvcGwovI"
   },
   "outputs": [],
   "source": [
    "from keras.utils import to_categorical"
   ]
  },
  {
   "cell_type": "code",
   "execution_count": 15,
   "metadata": {
    "id": "dgWk4MS1w3aG"
   },
   "outputs": [],
   "source": [
    "import numpy as np\n",
    "\n",
    "Filtro=np.where(y_train<8)[0]\n",
    "FiltroTeste=np.where(y_test<8)[0]"
   ]
  },
  {
   "cell_type": "code",
   "execution_count": 16,
   "metadata": {
    "id": "NkiZAPbwwrIM"
   },
   "outputs": [],
   "source": [
    "Y_train=to_categorical(y_train[Filtro],8)\n",
    "Y_test=to_categorical(y_test[FiltroTeste],8)"
   ]
  },
  {
   "cell_type": "code",
   "execution_count": 17,
   "metadata": {
    "id": "bDVykjYixKDN"
   },
   "outputs": [],
   "source": [
    "Modelo=Sequential()\n",
    "Modelo.add(Flatten(input_shape=(28,28,1)))\n",
    "Modelo.add(Dense(60) )\n",
    "Modelo.add(ModuleNormalization(s=10.0  ))\n",
    "Modelo.add(Dense(8,kernel_constraint=min_max_norm(1,1),bias_constraint=min_max_norm(0,0),activation='softmax'))\n"
   ]
  },
  {
   "cell_type": "code",
   "execution_count": 18,
   "metadata": {
    "colab": {
     "base_uri": "https://localhost:8080/"
    },
    "id": "1YOAX1_rxVsc",
    "outputId": "fd095422-c30a-48e7-8cc2-fa1f2e22469b"
   },
   "outputs": [
    {
     "name": "stdout",
     "output_type": "stream",
     "text": [
      "1507/1507 [==============================] - 1s 820us/step - loss: 0.2434 - accuracy: 0.9275\n"
     ]
    },
    {
     "data": {
      "text/plain": [
       "<tensorflow.python.keras.callbacks.History at 0x7fd37002bc88>"
      ]
     },
     "execution_count": 18,
     "metadata": {},
     "output_type": "execute_result"
    }
   ],
   "source": [
    "Modelo.compile('adam','categorical_crossentropy',metrics=['accuracy'])\n",
    "Modelo.fit(x_train[Filtro],Y_train,epochs=1)"
   ]
  },
  {
   "cell_type": "code",
   "execution_count": 19,
   "metadata": {
    "colab": {
     "base_uri": "https://localhost:8080/"
    },
    "id": "sO0MIuvnx7l7",
    "outputId": "3851cbe7-a68b-41c1-9bfc-e38a5879bb36"
   },
   "outputs": [
    {
     "name": "stdout",
     "output_type": "stream",
     "text": [
      "8017/8017 [==============================] - 4s 523us/step - loss: 0.1831 - accuracy: 0.9464\n"
     ]
    },
    {
     "data": {
      "text/plain": [
       "[0.1830768883228302, 0.9463639855384827]"
      ]
     },
     "execution_count": 19,
     "metadata": {},
     "output_type": "execute_result"
    }
   ],
   "source": [
    "Modelo.evaluate(x_test[FiltroTeste],Y_test,batch_size=1)"
   ]
  },
  {
   "cell_type": "markdown",
   "metadata": {},
   "source": [
    "# Adding Classes 8 and 9 to the model and showing the summary so the user may see Modelo1 has 9 classes, while Modelo2 has 10 (Joint Scenario)"
   ]
  },
  {
   "cell_type": "code",
   "execution_count": 20,
   "metadata": {
    "colab": {
     "base_uri": "https://localhost:8080/"
    },
    "id": "vrCBXJvpxbjI",
    "outputId": "49d997ff-ccf5-4fcf-b919-cefb1fff87b2"
   },
   "outputs": [],
   "source": [
    "Modelo1=AddNewClass(Modelo, x_train[np.where(y_train==8)[0]] )"
   ]
  },
  {
   "cell_type": "code",
   "execution_count": 21,
   "metadata": {
    "colab": {
     "base_uri": "https://localhost:8080/"
    },
    "id": "_orsV4e6yOaZ",
    "outputId": "5c86703c-8f0a-4207-caed-a455b2e789e7"
   },
   "outputs": [],
   "source": [
    "Modelo2=AddNewClass(Modelo1, x_train[np.where(y_train==9)[0]] )"
   ]
  },
  {
   "cell_type": "code",
   "execution_count": 22,
   "metadata": {},
   "outputs": [
    {
     "name": "stdout",
     "output_type": "stream",
     "text": [
      "Model: \"model_1\"\n",
      "_________________________________________________________________\n",
      "Layer (type)                 Output Shape              Param #   \n",
      "=================================================================\n",
      "flatten_1_input (InputLayer) [(None, 28, 28, 1)]       0         \n",
      "_________________________________________________________________\n",
      "flatten_1 (Flatten)          (None, 784)               0         \n",
      "_________________________________________________________________\n",
      "dense_2 (Dense)              (None, 60)                47100     \n",
      "_________________________________________________________________\n",
      "module_normalization_2 (Modu (None, 60)                0         \n",
      "_________________________________________________________________\n",
      "dense_4 (Dense)              (None, 9)                 549       \n",
      "=================================================================\n",
      "Total params: 47,649\n",
      "Trainable params: 47,649\n",
      "Non-trainable params: 0\n",
      "_________________________________________________________________\n"
     ]
    }
   ],
   "source": [
    "Modelo1.summary()"
   ]
  },
  {
   "cell_type": "code",
   "execution_count": 23,
   "metadata": {
    "colab": {
     "base_uri": "https://localhost:8080/"
    },
    "id": "0NayGRuDymZH",
    "outputId": "098f32ae-720b-40c9-cb96-e7d0afc3994e"
   },
   "outputs": [
    {
     "name": "stdout",
     "output_type": "stream",
     "text": [
      "Model: \"model_3\"\n",
      "_________________________________________________________________\n",
      "Layer (type)                 Output Shape              Param #   \n",
      "=================================================================\n",
      "flatten_1_input (InputLayer) [(None, 28, 28, 1)]       0         \n",
      "_________________________________________________________________\n",
      "flatten_1 (Flatten)          (None, 784)               0         \n",
      "_________________________________________________________________\n",
      "dense_2 (Dense)              (None, 60)                47100     \n",
      "_________________________________________________________________\n",
      "module_normalization_2 (Modu (None, 60)                0         \n",
      "_________________________________________________________________\n",
      "dense_5 (Dense)              (None, 10)                610       \n",
      "=================================================================\n",
      "Total params: 47,710\n",
      "Trainable params: 47,710\n",
      "Non-trainable params: 0\n",
      "_________________________________________________________________\n"
     ]
    }
   ],
   "source": [
    "Modelo2.summary()"
   ]
  },
  {
   "cell_type": "markdown",
   "metadata": {},
   "source": [
    "Evaluating on the extended dataset"
   ]
  },
  {
   "cell_type": "code",
   "execution_count": 24,
   "metadata": {
    "id": "M1zrj1CIypmj"
   },
   "outputs": [],
   "source": [
    "AvaliacaoFim=to_categorical(y_test,10)"
   ]
  },
  {
   "cell_type": "code",
   "execution_count": 25,
   "metadata": {
    "colab": {
     "base_uri": "https://localhost:8080/"
    },
    "id": "khor9ALJyuJS",
    "outputId": "1547b204-0e1b-47ec-99bd-32d395e94a67"
   },
   "outputs": [
    {
     "name": "stdout",
     "output_type": "stream",
     "text": [
      "10000/10000 [==============================] - 5s 525us/step - loss: 0.4434 - accuracy: 0.8550\n"
     ]
    },
    {
     "data": {
      "text/plain": [
       "[0.44344663619995117, 0.8550000190734863]"
      ]
     },
     "execution_count": 25,
     "metadata": {},
     "output_type": "execute_result"
    }
   ],
   "source": [
    "Modelo2.compile('adam','categorical_crossentropy',metrics=['accuracy'])\n",
    "\n",
    "Modelo2.evaluate(x_test,AvaliacaoFim,batch_size=1)"
   ]
  },
  {
   "cell_type": "code",
   "execution_count": 26,
   "metadata": {},
   "outputs": [
    {
     "name": "stdout",
     "output_type": "stream",
     "text": [
      "             precision    recall  f1-score   support\n",
      "\n",
      "          0       0.93      0.98      0.95       980\n",
      "          1       0.95      0.98      0.96      1135\n",
      "          2       0.90      0.91      0.90      1032\n",
      "          3       0.85      0.91      0.88      1010\n",
      "          4       0.86      0.77      0.81       982\n",
      "          5       0.82      0.80      0.81       892\n",
      "          6       0.92      0.95      0.94       958\n",
      "          7       0.90      0.84      0.87      1028\n",
      "          8       0.80      0.55      0.65       974\n",
      "          9       0.64      0.83      0.73      1009\n",
      "\n",
      "avg / total       0.86      0.85      0.85     10000\n",
      "\n"
     ]
    }
   ],
   "source": [
    "from sklearn.metrics import classification_report\n",
    "Prev=Modelo2.predict(x_test)\n",
    "print(classification_report(np.argmax(AvaliacaoFim,axis=1),np.argmax(Prev,axis=1)))"
   ]
  },
  {
   "cell_type": "markdown",
   "metadata": {},
   "source": [
    "# Disjoint setup, using the knowlegde from mnist to classify between two classes of fashion mnist\n"
   ]
  },
  {
   "cell_type": "code",
   "execution_count": 27,
   "metadata": {},
   "outputs": [],
   "source": [
    "from keras.datasets import fashion_mnist"
   ]
  },
  {
   "cell_type": "code",
   "execution_count": 28,
   "metadata": {},
   "outputs": [],
   "source": [
    "(x_train,y_train),(x_test,y_test)=fashion_mnist.load_data()"
   ]
  },
  {
   "cell_type": "code",
   "execution_count": 29,
   "metadata": {},
   "outputs": [],
   "source": [
    "from pyopenset.keras import CreateNewModel"
   ]
  },
  {
   "cell_type": "code",
   "execution_count": 30,
   "metadata": {},
   "outputs": [],
   "source": [
    "ModeloFashionMnist=CreateNewModel(Modelo,x_train[np.where(y_train==0)[0]] )"
   ]
  },
  {
   "cell_type": "code",
   "execution_count": 31,
   "metadata": {},
   "outputs": [],
   "source": [
    "ModeloFashionMnist=AddNewClass(ModeloFashionMnist,x_train[np.where(y_train==1)[0]] )"
   ]
  },
  {
   "cell_type": "code",
   "execution_count": 32,
   "metadata": {},
   "outputs": [
    {
     "name": "stdout",
     "output_type": "stream",
     "text": [
      "Model: \"model_7\"\n",
      "_________________________________________________________________\n",
      "Layer (type)                 Output Shape              Param #   \n",
      "=================================================================\n",
      "flatten_1_input (InputLayer) [(None, 28, 28, 1)]       0         \n",
      "_________________________________________________________________\n",
      "flatten_1 (Flatten)          (None, 784)               0         \n",
      "_________________________________________________________________\n",
      "dense_2 (Dense)              (None, 60)                47100     \n",
      "_________________________________________________________________\n",
      "module_normalization_2 (Modu (None, 60)                0         \n",
      "_________________________________________________________________\n",
      "dense_7 (Dense)              (None, 2)                 122       \n",
      "=================================================================\n",
      "Total params: 47,222\n",
      "Trainable params: 47,222\n",
      "Non-trainable params: 0\n",
      "_________________________________________________________________\n"
     ]
    }
   ],
   "source": [
    "ModeloFashionMnist.summary()"
   ]
  },
  {
   "cell_type": "code",
   "execution_count": 33,
   "metadata": {},
   "outputs": [],
   "source": [
    "FiltroTeste=np.where(y_test<2)[0]"
   ]
  },
  {
   "cell_type": "code",
   "execution_count": 34,
   "metadata": {},
   "outputs": [],
   "source": [
    "Y_test=to_categorical(y_test[FiltroTeste],2)"
   ]
  },
  {
   "cell_type": "code",
   "execution_count": 35,
   "metadata": {},
   "outputs": [],
   "source": [
    "ModeloFashionMnist.compile('adam','categorical_crossentropy',metrics=['accuracy'])"
   ]
  },
  {
   "cell_type": "code",
   "execution_count": 36,
   "metadata": {},
   "outputs": [
    {
     "name": "stdout",
     "output_type": "stream",
     "text": [
      "2000/2000 [==============================] - 1s 559us/step - loss: 0.4191 - accuracy: 0.9435\n"
     ]
    },
    {
     "data": {
      "text/plain": [
       "[0.41905951499938965, 0.9434999823570251]"
      ]
     },
     "execution_count": 36,
     "metadata": {},
     "output_type": "execute_result"
    }
   ],
   "source": [
    "ModeloFashionMnist.evaluate(x_test[FiltroTeste],Y_test,batch_size=1)"
   ]
  },
  {
   "cell_type": "code",
   "execution_count": 37,
   "metadata": {},
   "outputs": [],
   "source": [
    "import matplotlib.pyplot as plt"
   ]
  },
  {
   "cell_type": "code",
   "execution_count": 38,
   "metadata": {},
   "outputs": [
    {
     "data": {
      "text/plain": [
       "<matplotlib.image.AxesImage at 0x7fd2ecc8a780>"
      ]
     },
     "execution_count": 38,
     "metadata": {},
     "output_type": "execute_result"
    },
    {
     "data": {
      "image/png": "[encoded data removed]",
      "text/plain": [
       "<Figure size 432x288 with 1 Axes>"
      ]
     },
     "metadata": {
      "needs_background": "light"
     },
     "output_type": "display_data"
    }
   ],
   "source": [
    "plt.imshow(x_train[np.where(y_train==0)[0]][0]  )"
   ]
  },
  {
   "cell_type": "code",
   "execution_count": 39,
   "metadata": {},
   "outputs": [
    {
     "data": {
      "text/plain": [
       "<matplotlib.image.AxesImage at 0x7fd2ecbf4908>"
      ]
     },
     "execution_count": 39,
     "metadata": {},
     "output_type": "execute_result"
    },
    {
     "data": {
      "image/png": "[encoded data removed]",
      "text/plain": [
       "<Figure size 432x288 with 1 Axes>"
      ]
     },
     "metadata": {
      "needs_background": "light"
     },
     "output_type": "display_data"
    }
   ],
   "source": [
    "plt.imshow(x_train[np.where(y_train==1)[0]][0]  )"
   ]
  },
  {
   "cell_type": "code",
   "execution_count": null,
   "metadata": {},
   "outputs": [],
   "source": []
  }
 ],
 "metadata": {
  "colab": {
   "name": "Basis for python Package NSL.ipynb",
   "provenance": []
  },
  "kernelspec": {
   "display_name": "Python 3",
   "language": "python",
   "name": "python3"
  },
  "language_info": {
   "codemirror_mode": {
    "name": "ipython",
    "version": 3
   },
   "file_extension": ".py",
   "mimetype": "text/x-python",
   "name": "python",
   "nbconvert_exporter": "python",
   "pygments_lexer": "ipython3",
   "version": "3.5.2"
  }
 },
 "nbformat": 4,
 "nbformat_minor": 1
}
